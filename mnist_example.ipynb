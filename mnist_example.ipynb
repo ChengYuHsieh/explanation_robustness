{
 "cells": [
  {
   "cell_type": "markdown",
   "metadata": {},
   "source": [
    "## Evaluations and Methods for Explanation through Robustness Analysis"
   ]
  },
  {
   "cell_type": "markdown",
   "metadata": {},
   "source": [
    "###  Setting Config"
   ]
  },
  {
   "cell_type": "code",
   "execution_count": 1,
   "metadata": {},
   "outputs": [],
   "source": [
    "import os\n",
    "import sys\n",
    "import math\n",
    "import json\n",
    "import argparse\n",
    "import numpy as np\n",
    "import torch\n",
    "import torch.nn as nn\n",
    "import torch.nn.functional as F\n",
    "import torchvision.datasets as datasets\n",
    "import torchvision.transforms as transforms\n",
    "from pgd import pgd\n",
    "from expl_utils import *\n",
    "from bbmp import bbmp\n",
    "import matplotlib.pyplot as plt\n",
    "from skimage import feature, transform\n",
    "\n",
    "\n",
    "def parse_args():\n",
    "    parser = argparse.ArgumentParser(description='Example Usage on MNIST')\n",
    "    parser.add_argument('--gpu', type=int, default=0)\n",
    "    parser.add_argument('--seed', type=int, default=1)\n",
    "    parser.add_argument('--norm', type=int, default=2)\n",
    "    parser.add_argument('--pgd-eps-start', type=float, default=10.)     \n",
    "    parser.add_argument('--pgd-niter', type=int, default=100)\n",
    "    parser.add_argument('--pgd-step-size', type=float, default=1.)\n",
    "    args, _ = parser.parse_known_args()\n",
    "    return args\n",
    "\n",
    "# setting up config\n",
    "args = parse_args()\n",
    "np.random.seed(args.seed)\n",
    "torch.manual_seed(args.seed)\n",
    "device = torch.device('cuda' if torch.cuda.is_available() else 'cpu')\n",
    "torch.cuda.set_device(args.gpu)"
   ]
  },
  {
   "cell_type": "markdown",
   "metadata": {},
   "source": [
    "### Model Preparation"
   ]
  },
  {
   "cell_type": "code",
   "execution_count": 2,
   "metadata": {},
   "outputs": [
    {
     "name": "stdout",
     "output_type": "stream",
     "text": [
      "\n",
      "Test Accuracy: 9895/10000 (99%)\n",
      "\n"
     ]
    }
   ],
   "source": [
    "class Net(nn.Module):\n",
    "    def __init__(self):\n",
    "        super(Net, self).__init__()\n",
    "        self.conv1 = nn.Conv2d(1, 20, 5, 1)\n",
    "        self.conv2 = nn.Conv2d(20, 50, 5, 1)\n",
    "        self.fc1 = nn.Linear(4*4*50, 500)\n",
    "        self.fc2 = nn.Linear(500, 10)\n",
    "\n",
    "    def forward(self, x):\n",
    "        x = F.relu(self.conv1(x))\n",
    "        x = F.max_pool2d(x, 2, 2)\n",
    "        x = F.relu(self.conv2(x))\n",
    "        x = F.max_pool2d(x, 2, 2)\n",
    "        x = x.view(-1, 4*4*50)\n",
    "        x = F.relu(self.fc1(x))\n",
    "        x = self.fc2(x)\n",
    "        return x\n",
    "\n",
    "\n",
    "class UnnormInputModel(nn.Module):\n",
    "    def __init__(self, model, mean, std):\n",
    "        super(UnnormInputModel, self).__init__()\n",
    "        self.model = model\n",
    "        self.mean = mean\n",
    "        self.std = std\n",
    "    \n",
    "    def forward(self, x):\n",
    "        x_normed = (x - self.mean) / self.std\n",
    "        return self.model(x_normed)\n",
    "    \n",
    "\n",
    "# prepare model\n",
    "model = Net()\n",
    "model.load_state_dict(torch.load('mnist_cnn.pt')) # load pretrained model\n",
    "model = UnnormInputModel(model, mean=0.1307, std=0.3081)  # wrap the model with a normalization layer\n",
    "model = model.to(device)\n",
    "model.eval()\n",
    "\n",
    "# model sanity check\n",
    "test_loader = torch.utils.data.DataLoader(\n",
    "    datasets.MNIST('./mnist', train=False, transform=transforms.ToTensor()),\n",
    "    batch_size=512, shuffle=True)\n",
    "\n",
    "correct = 0\n",
    "with torch.no_grad():\n",
    "    for data, target in test_loader:\n",
    "        data, target = data.to(device), target.to(device)\n",
    "        output = model(data)\n",
    "        pred = output.argmax(dim=1, keepdim=True) # get the index of the max log-probability\n",
    "        correct += pred.eq(target.view_as(pred)).sum().item()\n",
    "\n",
    "print('\\nTest Accuracy: {}/{} ({:.0f}%)\\n'.format(\n",
    "    correct, len(test_loader.dataset),\n",
    "    100. * correct / len(test_loader.dataset)))\n",
    "\n"
   ]
  },
  {
   "cell_type": "markdown",
   "metadata": {},
   "source": [
    "### Example Input"
   ]
  },
  {
   "cell_type": "code",
   "execution_count": 3,
   "metadata": {},
   "outputs": [
    {
     "name": "stdout",
     "output_type": "stream",
     "text": [
      "Predicted Class: 4\n"
     ]
    },
    {
     "data": {
      "image/png": "[encoded data removed]",
      "text/plain": [
       "<Figure size 432x288 with 1 Axes>"
      ]
     },
     "metadata": {
      "needs_background": "light"
     },
     "output_type": "display_data"
    }
   ],
   "source": [
    "test_loader = torch.utils.data.DataLoader(\n",
    "    datasets.MNIST('./mnist', train=False, transform=transforms.ToTensor()),\n",
    "    batch_size=1, shuffle=True)\n",
    "\n",
    "Xs, ys = next(iter(test_loader))\n",
    "Xs_np = Xs.numpy()\n",
    "plt.imshow(Xs_np.reshape(28, 28), cmap='gray')\n",
    "plt.axis('off')\n",
    "\n",
    "Xs = Xs.to(device)\n",
    "ys = ys.to(device).long()\n",
    "assert Xs.shape == (1, 1, 28, 28)\n",
    "assert ys.shape == (1,)\n",
    "\n",
    "ys_pred = model(Xs).argmax()\n",
    "print('Predicted Class:', ys_pred.item())"
   ]
  },
  {
   "cell_type": "markdown",
   "metadata": {},
   "source": [
    "### Generating Explanations"
   ]
  },
  {
   "cell_type": "code",
   "execution_count": 4,
   "metadata": {},
   "outputs": [
    {
     "name": "stdout",
     "output_type": "stream",
     "text": [
      "Computing explanation by Grad...\n",
      "Computing explanation by IG...\n",
      "Computing explanation by LOO...\n",
      "Computing explanation by BBMP...\n",
      "Computing explanation by SHAP...\n",
      "Computing explanation by Greedy-AS...\n",
      "number of relevant features selected: 0.0\n",
      "number of relevant features selected: 39.0\n",
      "number of relevant features selected: 78.0\n",
      "number of relevant features selected: 117.0\n",
      "number of relevant features selected: 156.0\n",
      "number of relevant features selected: 195.0\n",
      "number of relevant features selected: 234.0\n",
      "number of relevant features selected: 273.0\n",
      "number of relevant features selected: 312.0\n",
      "number of relevant features selected: 351.0\n",
      "number of relevant features selected: 390.0\n"
     ]
    }
   ],
   "source": [
    "# Grad\n",
    "expl_grad = saliency_expl('Grad', Xs, ys, model)\n",
    "# IG\n",
    "expl_ig = saliency_expl('IG', Xs, ys, model)\n",
    "# LOO\n",
    "expl_loo = saliency_expl('LOO', Xs, ys, model)\n",
    "# BBMP\n",
    "expl_bbmp = bbmp(Xs, ys, model, device)\n",
    "# SHAP\n",
    "expl_shap = saliency_expl('SHAP', Xs, ys, model)\n",
    "# Greedy-AS\n",
    "expl_greedy_as = greedy_as(Xs, ys, model, targeted=False, target=None, norm=args.norm,\n",
    "                           eps_start=args.pgd_eps_start, step_size=args.pgd_step_size, niters=args.pgd_niter,\n",
    "                           device=device, reverse_anchor=False)"
   ]
  },
  {
   "cell_type": "code",
   "execution_count": 5,
   "metadata": {},
   "outputs": [],
   "source": [
    "def visualize(Xs, expls, percentage=15):\n",
    "    \n",
    "    def select_top_k(expl):\n",
    "        expl = np.copy(expl)\n",
    "        expl += np.random.uniform(-1e-12, 1e-12, size=expl.shape) # for ranking stability\n",
    "        threshold = np.percentile(expl, 100-percentage)\n",
    "        top_k_expl = np.copy(expl)\n",
    "        top_k_expl[expl <= threshold] = 0\n",
    "        top_k_expl[expl > threshold] = 1\n",
    "        return top_k_expl\n",
    "    \n",
    "    # compute edge for overlay\n",
    "    dx, dy = 0.05, 0.05\n",
    "    xx = np.arange(0.0, Xs.shape[1], dx)\n",
    "    yy = np.arange(0.0, Xs.shape[0], dy)\n",
    "    xmin, xmax, ymin, ymax = np.amin(xx), np.amax(xx), np.amin(yy), np.amax(yy)\n",
    "    extent = xmin, xmax, ymin, ymax    \n",
    "\n",
    "    Xs = Xs.cpu().reshape(28, 28)\n",
    "\n",
    "    xi = Xs\n",
    "    alpha = 0.8\n",
    "    dilation=3.0\n",
    "    cmap_xi = plt.get_cmap('Greys_r')\n",
    "    cmap_xi.set_bad(alpha=0)\n",
    "    overlay = None\n",
    "    # Compute edges (to overlay to heatmaps later)\n",
    "    xi_greyscale = xi if len(xi.shape) == 2 else np.mean(xi, axis=-1)\n",
    "    in_image_upscaled = transform.rescale(xi_greyscale, dilation, mode='constant')\n",
    "    edges = feature.canny(in_image_upscaled).astype(float)\n",
    "    edges[edges < 0.5] = np.nan\n",
    "    edges[:5, :] = np.nan\n",
    "    edges[-5:, :] = np.nan\n",
    "    edges[:, :5] = np.nan\n",
    "    edges[:, -5:] = np.nan\n",
    "    overlay = edges\n",
    " \n",
    "    # visualize top-k relevant features\n",
    "    top_k_expls = [select_top_k(expl).reshape(28, 28) for expl in expls]\n",
    "        \n",
    "    n_cols = len(expls) + 1\n",
    "    n_rows = 1\n",
    "    fig, axes = plt.subplots(nrows=n_rows, ncols=n_cols, figsize=(3*n_cols, 3*n_rows))\n",
    "\n",
    "    axes[0].imshow(Xs, cmap='gray')\n",
    "    axes[0].axis('off')\n",
    "    for i, expl in enumerate(top_k_expls, 1):\n",
    "        axes[i].imshow(expl, extent=extent, cmap='Reds', vmin=0, vmax=1)\n",
    "        axes[i].imshow(overlay, extent=extent, cmap=cmap_xi, alpha=alpha)\n",
    "        axes[i].axis('off')\n",
    "\n"
   ]
  },
  {
   "cell_type": "code",
   "execution_count": 6,
   "metadata": {},
   "outputs": [
    {
     "name": "stderr",
     "output_type": "stream",
     "text": [
      "/usr/local/lib/python3.5/dist-packages/skimage/transform/_warps.py:24: UserWarning: The default multichannel argument (None) is deprecated.  Please specify either True or False explicitly.  multichannel will default to False starting with release 0.16.\n",
      "  warn('The default multichannel argument (None) is deprecated.  Please '\n",
      "/usr/local/lib/python3.5/dist-packages/skimage/transform/_warps.py:110: UserWarning: Anti-aliasing will be enabled by default in skimage 0.15 to avoid aliasing artifacts when down-sampling images.\n",
      "  warn(\"Anti-aliasing will be enabled by default in skimage 0.15 to \"\n"
     ]
    },
    {
     "data": {
      "image/png": "[encoded data removed]",
      "text/plain": [
       "<Figure size 1512x216 with 7 Axes>"
      ]
     },
     "metadata": {
      "needs_background": "light"
     },
     "output_type": "display_data"
    }
   ],
   "source": [
    "visualize(Xs, [expl_grad, expl_ig, expl_loo, expl_bbmp, expl_shap, expl_greedy_as])"
   ]
  },
  {
   "cell_type": "markdown",
   "metadata": {},
   "source": [
    "### Evaluating Explanations through Robustness Analysis"
   ]
  },
  {
   "cell_type": "code",
   "execution_count": 7,
   "metadata": {},
   "outputs": [],
   "source": [
    "def eval_curve_robust(Xs, ys, model, targeted, targets, norm, eps_start, step_size, niters, expl,\n",
    "                      device, reverse_anchor):\n",
    "    # set up logger\n",
    "    logger = list()\n",
    "    \n",
    "    # for topk stability\n",
    "    expl = np.copy(expl)\n",
    "    expl += np.random.uniform(-1e-12, 1e-12, size=expl.shape)\n",
    "    \n",
    "    for i in range(0, 50, 5):\n",
    "        threshold = np.percentile(expl, 100 - i)\n",
    "        top_k_expl = np.copy(expl)\n",
    "        top_k_expl[expl <= threshold] = 0\n",
    "        top_k_expl[expl > threshold] = 1\n",
    "        anchor_map = top_k_expl\n",
    "        if reverse_anchor:\n",
    "            anchor_map = np.logical_not(anchor_map)\n",
    "        anchor_map = torch.BoolTensor(anchor_map).to(device)\n",
    "        \n",
    "        def binary_search_cond(Xs, ys, epsilons, anchor_map, targeted, targets):\n",
    "            epsilons = torch.FloatTensor(epsilons).to(device)\n",
    "            successes, Xs_pgd = pgd(Xs, ys, model, epsilons, norm, niters, step_size, anchor_map, targeted, targets=targets,\n",
    "                                    box_min=0., box_max=1., verbose=False, multi_start=True, device=device)\n",
    "            return successes, Xs_pgd\n",
    "        \n",
    "        robust_ub, Xs_pgd = binary_search(binary_search_cond, Xs, ys, np.full(len(Xs), eps_start), anchor_map, targeted, targets, tol=0.001, max_steps=25)\n",
    "        robust_ub = robust_ub[0]\n",
    "        logger.append(robust_ub)\n",
    "        print('robustness:', robust_ub)\n",
    "\n",
    "    return logger\n",
    "    "
   ]
  },
  {
   "cell_type": "code",
   "execution_count": 8,
   "metadata": {},
   "outputs": [
    {
     "name": "stdout",
     "output_type": "stream",
     "text": [
      "robustness: 1.2032470703125\n",
      "robustness: 1.58062744140625\n",
      "robustness: 1.6427001953125\n",
      "robustness: 1.88165283203125\n",
      "robustness: 2.0491943359375\n",
      "robustness: 2.0843505859375\n",
      "robustness: 2.52105712890625\n",
      "robustness: 2.6435546875\n",
      "robustness: 2.77099609375\n",
      "robustness: 2.79296875\n",
      "robustness: 1.2021484375\n",
      "robustness: 1.7119140625\n",
      "robustness: 2.0426025390625\n",
      "robustness: 2.3271484375\n",
      "robustness: 2.8402099609375\n",
      "robustness: 3.0775146484375\n",
      "robustness: 3.8970947265625\n",
      "robustness: 4.44586181640625\n",
      "robustness: 4.9495849609375\n",
      "robustness: 5.392333984375\n"
     ]
    }
   ],
   "source": [
    "eval_curve_grad = eval_curve_robust(Xs, ys, model, False, None, args.norm, args.pgd_eps_start,\n",
    "                                    args.pgd_step_size, args.pgd_niter, expl_grad, device, False)\n",
    "eval_curve_greedy_as = eval_curve_robust(Xs, ys, model, False, None, args.norm, args.pgd_eps_start,\n",
    "                                        args.pgd_step_size, args.pgd_niter, expl_greedy_as, device, False)"
   ]
  },
  {
   "cell_type": "code",
   "execution_count": 9,
   "metadata": {},
   "outputs": [
    {
     "data": {
      "text/plain": [
       "Text(0.5, 0, 'Percentage of Relevant Features (|$S_r$|/d)')"
      ]
     },
     "execution_count": 9,
     "metadata": {},
     "output_type": "execute_result"
    },
    {
     "data": {
      "image/png": "[encoded data removed]",
      "text/plain": [
       "<Figure size 432x288 with 1 Axes>"
      ]
     },
     "metadata": {},
     "output_type": "display_data"
    }
   ],
   "source": [
    "plt.style.use('ggplot')\n",
    "markers = ['o', '^']\n",
    "fig = plt.figure()\n",
    "ax = plt.axes()\n",
    "\n",
    "methods = ['Greedy-AS', 'Grad']\n",
    "curves = [eval_curve_greedy_as, eval_curve_grad]\n",
    "\n",
    "for i, (method, curve) in enumerate(zip(methods, curves)):\n",
    "    steps = len(curve)\n",
    "    ax.plot(np.arange(steps), curve, label=method, linewidth=3, marker=markers[i], markersize=12)\n",
    "\n",
    "\n",
    "leg = plt.legend(framealpha = 1, loc = 2, fontsize=14)\n",
    "for text in leg.get_texts():\n",
    "    plt.setp(text, color='black')\n",
    "\n",
    "plt.xticks(np.arange(10), np.arange(10)*5)\n",
    "plt.tick_params(labelsize=12)\n",
    "plt.ylabel(r'Robustness-$\\overline{S_r}$', fontsize=16)\n",
    "plt.xlabel(r'Percentage of Relevant Features (|$S_r$|/d)', fontsize=16)"
   ]
  }
 ],
 "metadata": {
  "kernelspec": {
   "display_name": "Python 3",
   "language": "python",
   "name": "python3"
  },
  "language_info": {
   "codemirror_mode": {
    "name": "ipython",
    "version": 3
   },
   "file_extension": ".py",
   "mimetype": "text/x-python",
   "name": "python",
   "nbconvert_exporter": "python",
   "pygments_lexer": "ipython3",
   "version": "3.5.2"
  }
 },
 "nbformat": 4,
 "nbformat_minor": 2
}
